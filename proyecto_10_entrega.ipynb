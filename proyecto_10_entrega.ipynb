{
 "cells": [
  {
   "cell_type": "markdown",
   "metadata": {},
   "source": [
    "# <center>**PROYECTO 10**</center> "
   ]
  },
  {
   "cell_type": "markdown",
   "metadata": {},
   "source": [
    "### **Descripción del proyecto**\n",
    "\n",
    "Trabajas en la compañía de extracción de petróleo OilyGiant. Tu tarea es encontrar los mejores lugares donde abrir 200 pozos nuevos de petróleo.\n"
   ]
  },
  {
   "cell_type": "markdown",
   "metadata": {},
   "source": [
    "**Las instrucciones son las siguiente:**\n",
    "1. Descarga y prepara los datos. Explica el procedimiento.\n",
    "\n",
    "2. Entrena y prueba el modelo para cada región en geo_data_0.csv:\n",
    "    - Divide los datos en un conjunto de entrenamiento y un conjunto de validación en una proporción de 75:25\n",
    "    - Entrena el modelo y haz predicciones para el conjunto de validación.\n",
    "    - Guarda las predicciones y las respuestas correctas para el conjunto de validación.\n",
    "    - Muestra el volumen medio de reservas predicho y RMSE del modelo.\n",
    "    - Analiza los resultados.\n",
    "    - Coloca todos los pasos previos en funciones, realiza y ejecuta los pasos 2.1-2.5 para los archivos 'geo_data_1.csv' y 'geo_data_2.csv'.\n",
    "\n",
    "3. Prepárate para el cálculo de ganancias:\n",
    "    - Almacena todos los valores necesarios para los cálculos en variables separadas.\n",
    "    - Dada la inversión de 100 millones por 200 pozos petrolíferos, de media un pozo petrolífero debe producir al menos un valor de 500,000 dólares en unidades para evitar pérdidas (esto es equivalente a 111.1 unidades). Compara esta cantidad con la cantidad media de reservas en cada región.\n",
    "    - Presenta conclusiones sobre cómo preparar el paso para calcular el beneficio.\n",
    "\n",
    "4. Escribe una función para calcular la ganancia de un conjunto de pozos de petróleo seleccionados y modela las predicciones:\n",
    "    - Elige los 200 pozos con los valores de predicción más altos de cada una de las 3 regiones (es decir, archivos 'csv').\n",
    "    - Resume el volumen objetivo de reservas según dichas predicciones. Almacena las predicciones para los 200 pozos para cada una de las 3 regiones.\n",
    "    - Calcula la ganancia potencial de los 200 pozos principales por región. Presenta tus conclusiones: propón una región para el desarrollo de pozos petrolíferos y justifica tu elección.\n",
    "\n",
    "5. Calcula riesgos y ganancias para cada región:\n",
    "    - Utilizando las predicciones que almacenaste en el paso 4.2, emplea la técnica del bootstrapping con 1000 muestras para hallar la distribución de los beneficios.\n",
    "    - Encuentra el beneficio promedio, el intervalo de confianza del 95% y el riesgo de pérdidas. La pérdida es una ganancia negativa, calcúlala como una probabilidad y luego exprésala como un porcentaje.\n",
    "    - Presenta tus conclusiones: propón una región para el desarrollo de pozos petrolíferos y justifica tu elección. ¿Coincide tu elección con la elección anterior en el punto 4.3?"
   ]
  },
  {
   "cell_type": "markdown",
   "metadata": {},
   "source": [
    "## <center>PASO 1</center>"
   ]
  },
  {
   "cell_type": "code",
   "execution_count": 1,
   "metadata": {},
   "outputs": [],
   "source": [
    "\n",
    "# Importación de librerías\n",
    "\n",
    "\n",
    "import pandas as pd\n",
    "import numpy as np\n",
    "from sklearn.model_selection import train_test_split\n",
    "from sklearn.linear_model import LinearRegression\n",
    "from sklearn.metrics import mean_squared_error"
   ]
  },
  {
   "cell_type": "code",
   "execution_count": 2,
   "metadata": {},
   "outputs": [],
   "source": [
    "# Asignación de data frames a sus respectivas variables\n",
    "\n",
    "geo_0 = pd.read_csv('/datasets/geo_data_0.csv')\n",
    "geo_1 = pd.read_csv('/datasets/geo_data_1.csv')\n",
    "geo_2 = pd.read_csv('/datasets/geo_data_2.csv')"
   ]
  },
  {
   "cell_type": "markdown",
   "metadata": {},
   "source": [
    "## <center>PASO 2</center>\n",
    "\n",
    "### Análisis de datos para GEO_0"
   ]
  },
  {
   "cell_type": "code",
   "execution_count": 3,
   "metadata": {},
   "outputs": [
    {
     "name": "stdout",
     "output_type": "stream",
     "text": [
      "<class 'pandas.core.frame.DataFrame'>\n",
      "RangeIndex: 100000 entries, 0 to 99999\n",
      "Data columns (total 5 columns):\n",
      " #   Column   Non-Null Count   Dtype  \n",
      "---  ------   --------------   -----  \n",
      " 0   id       100000 non-null  object \n",
      " 1   f0       100000 non-null  float64\n",
      " 2   f1       100000 non-null  float64\n",
      " 3   f2       100000 non-null  float64\n",
      " 4   product  100000 non-null  float64\n",
      "dtypes: float64(4), object(1)\n",
      "memory usage: 3.8+ MB\n"
     ]
    },
    {
     "data": {
      "text/html": [
       "<div>\n",
       "<style scoped>\n",
       "    .dataframe tbody tr th:only-of-type {\n",
       "        vertical-align: middle;\n",
       "    }\n",
       "\n",
       "    .dataframe tbody tr th {\n",
       "        vertical-align: top;\n",
       "    }\n",
       "\n",
       "    .dataframe thead th {\n",
       "        text-align: right;\n",
       "    }\n",
       "</style>\n",
       "<table border=\"1\" class=\"dataframe\">\n",
       "  <thead>\n",
       "    <tr style=\"text-align: right;\">\n",
       "      <th></th>\n",
       "      <th>id</th>\n",
       "      <th>f0</th>\n",
       "      <th>f1</th>\n",
       "      <th>f2</th>\n",
       "      <th>product</th>\n",
       "    </tr>\n",
       "  </thead>\n",
       "  <tbody>\n",
       "    <tr>\n",
       "      <th>0</th>\n",
       "      <td>txEyH</td>\n",
       "      <td>0.705745</td>\n",
       "      <td>-0.497823</td>\n",
       "      <td>1.221170</td>\n",
       "      <td>105.280062</td>\n",
       "    </tr>\n",
       "    <tr>\n",
       "      <th>1</th>\n",
       "      <td>2acmU</td>\n",
       "      <td>1.334711</td>\n",
       "      <td>-0.340164</td>\n",
       "      <td>4.365080</td>\n",
       "      <td>73.037750</td>\n",
       "    </tr>\n",
       "    <tr>\n",
       "      <th>2</th>\n",
       "      <td>409Wp</td>\n",
       "      <td>1.022732</td>\n",
       "      <td>0.151990</td>\n",
       "      <td>1.419926</td>\n",
       "      <td>85.265647</td>\n",
       "    </tr>\n",
       "    <tr>\n",
       "      <th>3</th>\n",
       "      <td>iJLyR</td>\n",
       "      <td>-0.032172</td>\n",
       "      <td>0.139033</td>\n",
       "      <td>2.978566</td>\n",
       "      <td>168.620776</td>\n",
       "    </tr>\n",
       "    <tr>\n",
       "      <th>4</th>\n",
       "      <td>Xdl7t</td>\n",
       "      <td>1.988431</td>\n",
       "      <td>0.155413</td>\n",
       "      <td>4.751769</td>\n",
       "      <td>154.036647</td>\n",
       "    </tr>\n",
       "  </tbody>\n",
       "</table>\n",
       "</div>"
      ],
      "text/plain": [
       "      id        f0        f1        f2     product\n",
       "0  txEyH  0.705745 -0.497823  1.221170  105.280062\n",
       "1  2acmU  1.334711 -0.340164  4.365080   73.037750\n",
       "2  409Wp  1.022732  0.151990  1.419926   85.265647\n",
       "3  iJLyR -0.032172  0.139033  2.978566  168.620776\n",
       "4  Xdl7t  1.988431  0.155413  4.751769  154.036647"
      ]
     },
     "metadata": {},
     "output_type": "display_data"
    }
   ],
   "source": [
    "geo_0.info()\n",
    "display(geo_0.head())"
   ]
  },
  {
   "cell_type": "code",
   "execution_count": 4,
   "metadata": {},
   "outputs": [],
   "source": [
    "# Función que realiza la divición del dataframe en conjunto de validación, entrenamiento. Entrena el modelo de regreción linear y regresa las variables para obtener media, MSE, y predicciones.\n",
    "def geotest(data, size, randost):\n",
    "    target = data['product']\n",
    "    features = data.drop(['product', 'id'], axis=1)\n",
    "    features_train, features_valid, target_train, target_valid = train_test_split(\n",
    "        features, target, test_size=size, random_state=randost)\n",
    "\n",
    "    model = LinearRegression()\n",
    "    model.fit(features_train, target_train)\n",
    "    predicted_valid = model.predict(features_valid)\n",
    "    mse = mean_squared_error(target_valid, predicted_valid)\n",
    "    predicted_mean = predicted_valid.mean()\n",
    "\n",
    "    return predicted_mean, mse, predicted_valid"
   ]
  },
  {
   "cell_type": "code",
   "execution_count": 5,
   "metadata": {},
   "outputs": [
    {
     "name": "stdout",
     "output_type": "stream",
     "text": [
      "La raiz cuadrada del error cuadratico medio para el modelo de geo_0 es: 37.5794217150813\n",
      "La media de los volumenes predichos por el modelo es de: 92.59256778438035\n"
     ]
    }
   ],
   "source": [
    "# Asignación de variables para el modelo geo_0\n",
    "mean_geo_0, mse_geo_0, predicted_geo_0 = geotest(geo_0, 0.25, 12345)\n",
    "rmse_geo_0 = mse_geo_0 ** 0.5\n",
    "\n",
    "print('La raiz cuadrada del error cuadratico medio para el modelo de geo_0 es:', rmse_geo_0)\n",
    "print('La media de los volumenes predichos por el modelo es de:', mean_geo_0)"
   ]
  },
  {
   "cell_type": "markdown",
   "metadata": {},
   "source": [
    "**Conclusión para la región GEO_0**\n",
    "\n",
    "Al analizar los resultados para la región geo_0, observamos que el error cuadrático medio (MSE) es de 37.5. Este valor indica la magnitud de la variación en los volúmenes de petróleo producidos por pozo petrolero en relación con las predicciones del modelo. Por otro lado, la media de los volúmenes de petróleo predicha por el modelo es de 92.5 barriles. Esto sugiere que, en promedio, el modelo predice que cada pozo en esta región producirá alrededor de 92.5 barriles de petróleo"
   ]
  },
  {
   "cell_type": "markdown",
   "metadata": {},
   "source": [
    "### Análisis de datos para GEO_1"
   ]
  },
  {
   "cell_type": "code",
   "execution_count": 6,
   "metadata": {},
   "outputs": [
    {
     "name": "stdout",
     "output_type": "stream",
     "text": [
      "<class 'pandas.core.frame.DataFrame'>\n",
      "RangeIndex: 100000 entries, 0 to 99999\n",
      "Data columns (total 5 columns):\n",
      " #   Column   Non-Null Count   Dtype  \n",
      "---  ------   --------------   -----  \n",
      " 0   id       100000 non-null  object \n",
      " 1   f0       100000 non-null  float64\n",
      " 2   f1       100000 non-null  float64\n",
      " 3   f2       100000 non-null  float64\n",
      " 4   product  100000 non-null  float64\n",
      "dtypes: float64(4), object(1)\n",
      "memory usage: 3.8+ MB\n"
     ]
    },
    {
     "data": {
      "text/html": [
       "<div>\n",
       "<style scoped>\n",
       "    .dataframe tbody tr th:only-of-type {\n",
       "        vertical-align: middle;\n",
       "    }\n",
       "\n",
       "    .dataframe tbody tr th {\n",
       "        vertical-align: top;\n",
       "    }\n",
       "\n",
       "    .dataframe thead th {\n",
       "        text-align: right;\n",
       "    }\n",
       "</style>\n",
       "<table border=\"1\" class=\"dataframe\">\n",
       "  <thead>\n",
       "    <tr style=\"text-align: right;\">\n",
       "      <th></th>\n",
       "      <th>id</th>\n",
       "      <th>f0</th>\n",
       "      <th>f1</th>\n",
       "      <th>f2</th>\n",
       "      <th>product</th>\n",
       "    </tr>\n",
       "  </thead>\n",
       "  <tbody>\n",
       "    <tr>\n",
       "      <th>0</th>\n",
       "      <td>kBEdx</td>\n",
       "      <td>-15.001348</td>\n",
       "      <td>-8.276000</td>\n",
       "      <td>-0.005876</td>\n",
       "      <td>3.179103</td>\n",
       "    </tr>\n",
       "    <tr>\n",
       "      <th>1</th>\n",
       "      <td>62mP7</td>\n",
       "      <td>14.272088</td>\n",
       "      <td>-3.475083</td>\n",
       "      <td>0.999183</td>\n",
       "      <td>26.953261</td>\n",
       "    </tr>\n",
       "    <tr>\n",
       "      <th>2</th>\n",
       "      <td>vyE1P</td>\n",
       "      <td>6.263187</td>\n",
       "      <td>-5.948386</td>\n",
       "      <td>5.001160</td>\n",
       "      <td>134.766305</td>\n",
       "    </tr>\n",
       "    <tr>\n",
       "      <th>3</th>\n",
       "      <td>KcrkZ</td>\n",
       "      <td>-13.081196</td>\n",
       "      <td>-11.506057</td>\n",
       "      <td>4.999415</td>\n",
       "      <td>137.945408</td>\n",
       "    </tr>\n",
       "    <tr>\n",
       "      <th>4</th>\n",
       "      <td>AHL4O</td>\n",
       "      <td>12.702195</td>\n",
       "      <td>-8.147433</td>\n",
       "      <td>5.004363</td>\n",
       "      <td>134.766305</td>\n",
       "    </tr>\n",
       "  </tbody>\n",
       "</table>\n",
       "</div>"
      ],
      "text/plain": [
       "      id         f0         f1        f2     product\n",
       "0  kBEdx -15.001348  -8.276000 -0.005876    3.179103\n",
       "1  62mP7  14.272088  -3.475083  0.999183   26.953261\n",
       "2  vyE1P   6.263187  -5.948386  5.001160  134.766305\n",
       "3  KcrkZ -13.081196 -11.506057  4.999415  137.945408\n",
       "4  AHL4O  12.702195  -8.147433  5.004363  134.766305"
      ]
     },
     "metadata": {},
     "output_type": "display_data"
    }
   ],
   "source": [
    "geo_1.info()\n",
    "display(geo_1.head())"
   ]
  },
  {
   "cell_type": "code",
   "execution_count": 7,
   "metadata": {},
   "outputs": [
    {
     "name": "stdout",
     "output_type": "stream",
     "text": [
      "La raiz cuadrada del error cuadratico medio para el modelo de geo_1 es: 0.8930992867756165\n",
      "La media de los volumenes predichos por el modelo es de: 68.728546895446\n"
     ]
    }
   ],
   "source": [
    "# Llamada de función y asignación de variables para el modelo geo_1\n",
    "mean_geo_1, mse_geo_1, predicted_geo_1 = geotest(geo_1, 0.25, 12345)\n",
    "rmse_geo_1 = mse_geo_1 ** 0.5\n",
    "\n",
    "print('La raiz cuadrada del error cuadratico medio para el modelo de geo_1 es:', rmse_geo_1)\n",
    "print('La media de los volumenes predichos por el modelo es de:', mean_geo_1)"
   ]
  },
  {
   "cell_type": "markdown",
   "metadata": {},
   "source": [
    "**Conclusión para la región GEO_1**\n",
    "\n",
    "Al analizar los resultados para la región geo_1, observamos que el error cuadrático medio (MSE) es de 0.89. Este valor indica la magnitud de la variación en los volúmenes de petróleo producidos por pozo petrolero en relación con las predicciones del modelo. Por otro lado, la media de los volúmenes de petróleo predicha por el modelo es de 68.7 barriles. Esto sugiere que, en promedio, el modelo predice que cada pozo en esta región producirá alrededor de 68.7 barriles de petróleo.\n",
    "\n",
    "En comparación con la región anterior, su media es menor por poco mas de 20 barriles pero su MSE es de 0.89, una cifra muy pequeña, indicando que el modelo entrenado es mas exacto en su predicción. "
   ]
  },
  {
   "cell_type": "markdown",
   "metadata": {},
   "source": [
    "### Análisis de datos para GEO_2"
   ]
  },
  {
   "cell_type": "code",
   "execution_count": 8,
   "metadata": {},
   "outputs": [
    {
     "name": "stdout",
     "output_type": "stream",
     "text": [
      "<class 'pandas.core.frame.DataFrame'>\n",
      "RangeIndex: 100000 entries, 0 to 99999\n",
      "Data columns (total 5 columns):\n",
      " #   Column   Non-Null Count   Dtype  \n",
      "---  ------   --------------   -----  \n",
      " 0   id       100000 non-null  object \n",
      " 1   f0       100000 non-null  float64\n",
      " 2   f1       100000 non-null  float64\n",
      " 3   f2       100000 non-null  float64\n",
      " 4   product  100000 non-null  float64\n",
      "dtypes: float64(4), object(1)\n",
      "memory usage: 3.8+ MB\n"
     ]
    },
    {
     "data": {
      "text/html": [
       "<div>\n",
       "<style scoped>\n",
       "    .dataframe tbody tr th:only-of-type {\n",
       "        vertical-align: middle;\n",
       "    }\n",
       "\n",
       "    .dataframe tbody tr th {\n",
       "        vertical-align: top;\n",
       "    }\n",
       "\n",
       "    .dataframe thead th {\n",
       "        text-align: right;\n",
       "    }\n",
       "</style>\n",
       "<table border=\"1\" class=\"dataframe\">\n",
       "  <thead>\n",
       "    <tr style=\"text-align: right;\">\n",
       "      <th></th>\n",
       "      <th>id</th>\n",
       "      <th>f0</th>\n",
       "      <th>f1</th>\n",
       "      <th>f2</th>\n",
       "      <th>product</th>\n",
       "    </tr>\n",
       "  </thead>\n",
       "  <tbody>\n",
       "    <tr>\n",
       "      <th>0</th>\n",
       "      <td>fwXo0</td>\n",
       "      <td>-1.146987</td>\n",
       "      <td>0.963328</td>\n",
       "      <td>-0.828965</td>\n",
       "      <td>27.758673</td>\n",
       "    </tr>\n",
       "    <tr>\n",
       "      <th>1</th>\n",
       "      <td>WJtFt</td>\n",
       "      <td>0.262778</td>\n",
       "      <td>0.269839</td>\n",
       "      <td>-2.530187</td>\n",
       "      <td>56.069697</td>\n",
       "    </tr>\n",
       "    <tr>\n",
       "      <th>2</th>\n",
       "      <td>ovLUW</td>\n",
       "      <td>0.194587</td>\n",
       "      <td>0.289035</td>\n",
       "      <td>-5.586433</td>\n",
       "      <td>62.871910</td>\n",
       "    </tr>\n",
       "    <tr>\n",
       "      <th>3</th>\n",
       "      <td>q6cA6</td>\n",
       "      <td>2.236060</td>\n",
       "      <td>-0.553760</td>\n",
       "      <td>0.930038</td>\n",
       "      <td>114.572842</td>\n",
       "    </tr>\n",
       "    <tr>\n",
       "      <th>4</th>\n",
       "      <td>WPMUX</td>\n",
       "      <td>-0.515993</td>\n",
       "      <td>1.716266</td>\n",
       "      <td>5.899011</td>\n",
       "      <td>149.600746</td>\n",
       "    </tr>\n",
       "  </tbody>\n",
       "</table>\n",
       "</div>"
      ],
      "text/plain": [
       "      id        f0        f1        f2     product\n",
       "0  fwXo0 -1.146987  0.963328 -0.828965   27.758673\n",
       "1  WJtFt  0.262778  0.269839 -2.530187   56.069697\n",
       "2  ovLUW  0.194587  0.289035 -5.586433   62.871910\n",
       "3  q6cA6  2.236060 -0.553760  0.930038  114.572842\n",
       "4  WPMUX -0.515993  1.716266  5.899011  149.600746"
      ]
     },
     "metadata": {},
     "output_type": "display_data"
    }
   ],
   "source": [
    "geo_2.info()\n",
    "display(geo_2.head())"
   ]
  },
  {
   "cell_type": "code",
   "execution_count": 9,
   "metadata": {},
   "outputs": [
    {
     "name": "stdout",
     "output_type": "stream",
     "text": [
      "La raiz cuadrada del error cuadratico medio para el modelo de geo_1 es: 40.02970873393434\n",
      "La media de los volumenes predichos por el modelo es de: 94.96504596800489\n"
     ]
    }
   ],
   "source": [
    "# Llamada de función y asignación de variables para el modelo geo_1\n",
    "mean_geo_2, mse_geo_2, predicted_geo_2 = geotest(geo_2, 0.25, 12345)\n",
    "rmse_geo_2 = mse_geo_2 ** 0.5\n",
    "\n",
    "print('La raiz cuadrada del error cuadratico medio para el modelo de geo_1 es:', rmse_geo_2)\n",
    "print('La media de los volumenes predichos por el modelo es de:', mean_geo_2)"
   ]
  },
  {
   "cell_type": "markdown",
   "metadata": {},
   "source": [
    "**Conclusión para la región GEO_2**\n",
    "\n",
    "Al analizar los resultados para la región geo_2, observamos que el error cuadrático medio (MSE) es de 40. Este valor indica la magnitud de la variación en los volúmenes de petróleo producidos por pozo petrolero en relación con las predicciones del modelo. Por otro lado, la media de los volúmenes de petróleo predicha por el modelo es de 94.96 barriles. Esto sugiere que, en promedio, el modelo predice que cada pozo en esta región producirá alrededor de 94.96 barriles de petróleo.\n",
    "\n",
    "En comparación con las regiones anteriores, éste modelo es muy parecido al primero de la region 'geo_0' por lo que necesitaremos un análisis mas profundo para sacar conclusiones acerca de rentabilidad. "
   ]
  },
  {
   "cell_type": "markdown",
   "metadata": {},
   "source": [
    "## <center>PASO 3</center>\n",
    "\n",
    "### Preparación para el cálculo de ganancias"
   ]
  },
  {
   "cell_type": "markdown",
   "metadata": {},
   "source": [
    "1. Los valores necesarios para los cálculos ya se encuentran en variables separadas, estos son los valores predecidos por el modelo para cada zona:\n",
    "    * Zona 0: predicted_geo_0\n",
    "    * Zona 1: predicted_geo_1\n",
    "    * Zona 2: predicted_geo_2\n",
    "\n",
    "2. Dada la inversión de 100 millones por 200 pozos petrolíferos, de media un pozo petrolífero debe producir al menos un valor de 500,000 dólares en unidades para evitar pérdidas (esto es equivalente a 111.1 unidades). La comparación con la cantidad media de reservas en cada región es la siguiente:\n",
    "    * para la zona 0, su media fue de: 92.6\n",
    "    * para la zona 0, su media fue de: 68.7\n",
    "    * para la zona 0, su media fue de: 94.96\n",
    "\n",
    "3. Las conclusiones sobre cómo preparar el paso para calcular el beneficio:\n",
    "    * Crear una función para ordenar los volúmenes por zonas de mayor a menor.\n",
    "    * Filtrar solo aquellos cuyo rendimiento sea de mas de 111.1 unidades para obtener ganancias.\n",
    "    * A las ganancias totales restar los gastos de inversión para comparar que zonas son las que dan mas rendimientos. \n"
   ]
  },
  {
   "cell_type": "markdown",
   "metadata": {},
   "source": [
    "## <center>PASO 4</center>\n",
    "\n",
    "### Cálculo de ganancias y modelo de predicciones"
   ]
  },
  {
   "cell_type": "code",
   "execution_count": 10,
   "metadata": {},
   "outputs": [],
   "source": [
    "# creación de función para filtrar los 200 pozos mas rentables y resumir sus volumenes totales.\n",
    "def geosorted(data, count):\n",
    "    psorted = np.sort(data)[::-1][:count]\n",
    "    total_vol = np.sum(psorted)\n",
    "    return psorted, total_vol"
   ]
  },
  {
   "cell_type": "code",
   "execution_count": 11,
   "metadata": {},
   "outputs": [],
   "source": [
    "# Asignación de valores:\n",
    "\n",
    "geo0_sorted, geo0_total = geosorted(predicted_geo_0, 200)\n",
    "geo1_sorted, geo1_total = geosorted(predicted_geo_1, 200)\n",
    "geo2_sorted, geo2_total = geosorted(predicted_geo_2, 200)"
   ]
  },
  {
   "cell_type": "code",
   "execution_count": 12,
   "metadata": {},
   "outputs": [
    {
     "name": "stdout",
     "output_type": "stream",
     "text": [
      "[180.18071306 176.25221317 175.85062328 175.65842896 173.29968618]\n",
      "[139.81896981 139.77342296 139.70333031 139.56093759 139.51675429]\n",
      "[165.85683317 165.67968527 163.43996233 162.0625895  161.79747628]\n",
      "\n",
      "El volumen total de los 200 pozos mas redituables de la zona 0 es de: 31102.330838811387\n",
      "El volumen total de los 200 pozos mas redituables de la zona 1 es de: 27746.02678216347\n",
      "El volumen total de los 200 pozos mas redituables de la zona 2 es de: 29603.898658318358\n",
      "\n",
      "La ganancia obtenida en la zona 0 es de: 39974486.223273575\n",
      "La ganancia obtenida en la zona 1 es de: 24869607.480483666\n",
      "La ganancia obtenida en la zona 2 es de: 33230867.049137533\n"
     ]
    }
   ],
   "source": [
    "# Visualización de datos de mayor a menor\n",
    "print(geo0_sorted[:5])\n",
    "print(geo1_sorted[:5])\n",
    "print(geo2_sorted[:5])\n",
    "print()\n",
    "\n",
    "# De acuerdo al punto anterior 111.1 barriles nos dan un total de 500,000 de ganancia. Entonces para poder recuperar la inversión de 100 MD.\n",
    "# necesitaremos un total de  22,220 barriles que es el resultado de multiplicar 111.1 x 200. Entonces a continuación presentaremos el total de barriles por zona\n",
    "\n",
    "print('El volumen total de los 200 pozos mas redituables de la zona 0 es de:', geo0_total)\n",
    "print('El volumen total de los 200 pozos mas redituables de la zona 1 es de:', geo1_total)\n",
    "print('El volumen total de los 200 pozos mas redituables de la zona 2 es de:', geo2_total)\n",
    "print()\n",
    "\n",
    "# La siguiente función calcula la ganancia obtenida por zona.\n",
    "\n",
    "\n",
    "def profit(total):\n",
    "    geo_profit = total * (500000/111.1) - 100000000\n",
    "    return geo_profit\n",
    "\n",
    "# Ahora que ya tenemos la función para obtener las ganancias totales, la aplicamos por zona:\n",
    "\n",
    "\n",
    "print('La ganancia obtenida en la zona 0 es de:', profit(geo0_total))\n",
    "print('La ganancia obtenida en la zona 1 es de:', profit(geo1_total))\n",
    "print('La ganancia obtenida en la zona 2 es de:', profit(geo2_total))"
   ]
  },
  {
   "cell_type": "markdown",
   "metadata": {},
   "source": [
    "**CONCLUSIÓN**\n",
    "\n",
    "Basándonos en los cálculos realizados, se observa que la ganancia obtenida en la zona GEO_0 supera significativamente a las otras dos regiones, con un total de $39,974,486. Esto sugiere que, después de restar la inversión inicial, la zona GEO_0 parece ser la más rentable para invertir. Por lo tanto, recomendaríamos considerar GEO_0 como la mejor opción para futuras inversiones debido a su mayor potencial de ganancias."
   ]
  },
  {
   "cell_type": "markdown",
   "metadata": {},
   "source": [
    "## <center>PASO 5</center>\n",
    "\n",
    "### Cálculo de riesgos y ganancias para cada región"
   ]
  },
  {
   "cell_type": "code",
   "execution_count": 31,
   "metadata": {},
   "outputs": [],
   "source": [
    "# Función para calcular beneficios y riezgo de pérdida utilizando bootstrapping.\n",
    "def geo_bootstrap(data, samples, fract):\n",
    "    data = pd.Series(data)\n",
    "    state = np.random.RandomState(12345)\n",
    "    counter = 0\n",
    "    values = []\n",
    "\n",
    "    for i in range(samples):\n",
    "        target_subsample = data.sample(\n",
    "            n=fract, replace=True, random_state=state)\n",
    "        totalvol = np.sum(target_subsample)\n",
    "        values.append(totalvol)\n",
    "        if totalvol < 22220:\n",
    "            counter += 1\n",
    "\n",
    "    values = pd.Series(values)\n",
    "    lossprt = counter / len(values)\n",
    "    mean = values.mean()\n",
    "    lower = values.quantile(0.05)\n",
    "\n",
    "    return lossprt, mean, lower"
   ]
  },
  {
   "cell_type": "markdown",
   "metadata": {},
   "source": [
    "**RIESGO Y GANANCIA PARA LA ZONA GEO_0**"
   ]
  },
  {
   "cell_type": "code",
   "execution_count": 33,
   "metadata": {},
   "outputs": [
    {
     "name": "stdout",
     "output_type": "stream",
     "text": [
      "El beneficio promedio de la zona GEO_0 para los pozos petroleros mas redituables es de: 22391.35122647881 los cuales, una vez retirando la inversión inicial, con el 72% de los datos nos da un total de ganancia de: 771157.6349181533\n",
      "el porcentaje de riesgo para la zona GEO_0, con un bootstrapping del 72% es de: 1.6 %\n",
      "Con una probabilidad del 95% podemos asegurar que nuestro volumen será de: 22270.95366871548 El cual, al momento de recuperar la inversión, tendremos un total de: 229314.44066372514\n"
     ]
    }
   ],
   "source": [
    "lossprt_0, mean_0, lower_0 = geo_bootstrap(geo0_sorted, 1000, 144)\n",
    "\n",
    "print('El beneficio promedio de la zona GEO_0 para los pozos petroleros mas redituables es de:', mean_0,\n",
    "      'los cuales, una vez retirando la inversión inicial, con el 72% de los datos nos da un total de ganancia de:', mean_0 * (500000/111.1) - 100000000)\n",
    "print('el porcentaje de riesgo para la zona GEO_0, con un bootstrapping del 72% es de:',\n",
    "      lossprt_0 * 100, '%')\n",
    "print('Con una probabilidad del 95% podemos asegurar que nuestro volumen será de:', lower_0,\n",
    "      'El cual, al momento de recuperar la inversión, tendremos un total de:', lower_0 * (500000/111.1) - 100000000)"
   ]
  },
  {
   "cell_type": "markdown",
   "metadata": {},
   "source": [
    "**RIESGO Y GANANCIA PARA LA ZONA GEO_1**"
   ]
  },
  {
   "cell_type": "code",
   "execution_count": 56,
   "metadata": {},
   "outputs": [
    {
     "name": "stdout",
     "output_type": "stream",
     "text": [
      "El beneficio promedio de la zona GEO_0 para los pozos petroleros mas redituables es de: 19977.026474543156 los cuales, una vez retirando la inversión inicial, con el 72% de los datos nos da un total de: -10094390.303586155\n",
      "el porcentaje de riesgo para la zona GEO_0, con un bootstrapping del 72% es de: 100.0 %\n",
      "Con una probabilidad del 95% podemos asegurar que nuestro volumen será de: 19971.59549372905 El cual, al momento de recuperar la inversión, tendremos un total de: -10118832.16143541\n"
     ]
    }
   ],
   "source": [
    "lossprt_1, mean_1, lower_1 = geo_bootstrap(geo1_sorted, 1000, 144)\n",
    "\n",
    "print('El beneficio promedio de la zona GEO_0 para los pozos petroleros mas redituables es de:', mean_1,\n",
    "      'los cuales, una vez retirando la inversión inicial, con el 72% de los datos nos da un total de:', mean_1 * (500000/111.1) - 100000000)\n",
    "print('el porcentaje de riesgo para la zona GEO_0, con un bootstrapping del 72% es de:',\n",
    "      lossprt_1 * 100, '%')\n",
    "print('Con una probabilidad del 95% podemos asegurar que nuestro volumen será de:', lower_1,\n",
    "      'El cual, al momento de recuperar la inversión, tendremos un total de:', lower_1 * (500000/111.1) - 100000000)"
   ]
  },
  {
   "cell_type": "markdown",
   "metadata": {},
   "source": [
    "**RIESGO Y GANANCIA PARA LA ZONA GEO_2**"
   ]
  },
  {
   "cell_type": "code",
   "execution_count": 57,
   "metadata": {},
   "outputs": [
    {
     "name": "stdout",
     "output_type": "stream",
     "text": [
      "El beneficio promedio de la zona GEO_0 para los pozos petroleros mas redituables es de: 21312.692698624123 los cuales, una vez retirando la inversión inicial, con el 72% de los datos nos da un total de: -4083291.1853099763\n",
      "el porcentaje de riesgo para la zona GEO_0, con un bootstrapping del 72% es de: 100.0 %\n",
      "Con una probabilidad del 95% podemos asegurar que nuestro volumen será de: 21209.07809194987 El cual, al momento de recuperar la inversión, tendremos un total de: -4549603.54658024\n"
     ]
    }
   ],
   "source": [
    "lossprt_2, mean_2, lower_2 = geo_bootstrap(geo2_sorted, 1000, 144)\n",
    "\n",
    "print('El beneficio promedio de la zona GEO_0 para los pozos petroleros mas redituables es de:', mean_2,\n",
    "      'los cuales, una vez retirando la inversión inicial, con el 72% de los datos nos da un total de:', mean_2 * (500000/111.1) - 100000000)\n",
    "print('el porcentaje de riesgo para la zona GEO_0, con un bootstrapping del 72% es de:',\n",
    "      lossprt_2 * 100, '%')\n",
    "print('Con una probabilidad del 95% podemos asegurar que nuestro volumen será de:', lower_2,\n",
    "      'El cual, al momento de recuperar la inversión, tendremos un total de:', lower_2 * (500000/111.1) - 100000000)"
   ]
  },
  {
   "cell_type": "markdown",
   "metadata": {},
   "source": [
    "**CONCLUSIÓN**\n",
    "\n",
    "Después de realizar un análisis exhaustivo utilizando la técnica del bootstrapping en tres zonas potenciales para el desarrollo de pozos petrolíferos, se ha llegado a la conclusión de que la zona GEO_0 emerge como la opción más favorable. Esta elección se fundamenta en varios factores clave que destacan la viabilidad y el potencial de rentabilidad de esta zona en particular.\n",
    "\n",
    "En primer lugar, al evaluar el beneficio promedio de los pozos petrolíferos en cada zona, se observó que la zona GEO_0 exhibió el beneficio promedio más alto en comparación con las otras dos zonas. Este indicador señala que los pozos en la zona GEO_0 tienen el potencial de generar mayores ganancias en promedio, lo que representa una ventaja significativa en términos de retorno de la inversión.\n",
    "\n",
    "Además, al considerar el riesgo asociado con el desarrollo de pozos petrolíferos, se encontró que la zona GEO_0 presenta el riesgo más bajo de sufrir pérdidas. Con solo un 1.6% de probabilidad de pérdidas, los pozos petrolíferos en esta zona ofrecen una mayor seguridad en términos de rentabilidad.\n",
    "\n",
    "Es importante destacar que al utilizar un bootstrapping del 72% de los datos, la zona GEO_0 fue la única que no reportó pérdidas en ninguna de las muestras de bootstrap. Esta consistencia en los resultados indica una estabilidad y confiabilidad en la rentabilidad de los pozos petrolíferos en esta zona, lo que refuerza aún más su atractivo como ubicación para el desarrollo petrolero.\n",
    "\n",
    "Por otro lado, al examinar el intervalo de confianza del 95%, se pudo determinar con un alto grado de certeza que el volumen promedio de producción de los pozos en la zona GEO_0 estará dentro de un rango específico. Este intervalo proporciona una estimación precisa y confiable de las ganancias potenciales.\n",
    "\n",
    "En resumen, basado en el análisis detallado realizado mediante el bootstrapping, la zona GEO_0 se destaca como la opción más viable y prometedora para el desarrollo de pozos petrolíferos. Con su beneficio promedio superior, riesgo reducido, consistencia en los resultados y estimaciones confiables del potencial de ganancias, la zona GEO_0 representa una oportunidad excepcional para maximizar los rendimientos en la industria petrolera.\n"
   ]
  }
 ],
 "metadata": {
  "kernelspec": {
   "display_name": "Python 3",
   "language": "python",
   "name": "python3"
  },
  "language_info": {
   "codemirror_mode": {
    "name": "ipython",
    "version": 3
   },
   "file_extension": ".py",
   "mimetype": "text/x-python",
   "name": "python",
   "nbconvert_exporter": "python",
   "pygments_lexer": "ipython3",
   "version": "3.12.0"
  }
 },
 "nbformat": 4,
 "nbformat_minor": 2
}
